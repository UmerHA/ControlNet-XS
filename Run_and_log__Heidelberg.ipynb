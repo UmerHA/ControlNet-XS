{
 "cells": [
  {
   "cell_type": "markdown",
   "id": "6f491485-b406-40ef-a3f3-39d95b1852de",
   "metadata": {},
   "source": [
    "Move into `ControlNet-XS` directory to run"
   ]
  },
  {
   "cell_type": "markdown",
   "id": "67b1de44-1e95-4b86-8710-652703dfb2eb",
   "metadata": {},
   "source": [
    "Note: I made these changes to make the code run:\n",
    "1. In `requirements/pt2.txt`: `torchaudio==2.0.2`,`torchvision==0.15.2`\n",
    "2. In `ldm/models/diffusion/ddpm.py`: `from pytorch_lightning.utilities.rank_zero import rank_zero_only`"
   ]
  },
  {
   "cell_type": "code",
   "execution_count": 1,
   "id": "2c2d5a48-c421-4115-8d06-d68f62170150",
   "metadata": {},
   "outputs": [
    {
     "ename": "ModuleNotFoundError",
     "evalue": "No module named 'scripts'",
     "output_type": "error",
     "traceback": [
      "\u001b[0;31m---------------------------------------------------------------------------\u001b[0m",
      "\u001b[0;31mModuleNotFoundError\u001b[0m                       Traceback (most recent call last)",
      "Cell \u001b[0;32mIn[1], line 1\u001b[0m\n\u001b[0;32m----> 1\u001b[0m \u001b[38;5;28;01mimport\u001b[39;00m \u001b[38;5;21;01mscripts\u001b[39;00m\u001b[38;5;21;01m.\u001b[39;00m\u001b[38;5;21;01mcontrol_utils\u001b[39;00m \u001b[38;5;28;01mas\u001b[39;00m \u001b[38;5;21;01mcu\u001b[39;00m\n\u001b[1;32m      2\u001b[0m \u001b[38;5;28;01mimport\u001b[39;00m \u001b[38;5;21;01mtorch\u001b[39;00m\n\u001b[1;32m      3\u001b[0m \u001b[38;5;28;01mfrom\u001b[39;00m \u001b[38;5;21;01mPIL\u001b[39;00m \u001b[38;5;28;01mimport\u001b[39;00m Image\n",
      "\u001b[0;31mModuleNotFoundError\u001b[0m: No module named 'scripts'"
     ]
    }
   ],
   "source": [
    "import scripts.control_utils as cu\n",
    "import torch\n",
    "from PIL import Image"
   ]
  },
  {
   "cell_type": "code",
   "execution_count": null,
   "id": "585c32c0-5e7f-4498-97c5-640b648fc738",
   "metadata": {},
   "outputs": [],
   "source": [
    "path_to_config = '../Heidelberg_model_configs/sd21_encD_canny_14m.yaml'\n",
    "model = cu.create_model(path_to_config).to('cuda')"
   ]
  },
  {
   "cell_type": "code",
   "execution_count": null,
   "id": "29edf749-7833-46db-a8f3-e093ae63ed4d",
   "metadata": {},
   "outputs": [],
   "source": [
    "canny_high_th = 250\n",
    "canny_low_th = 100\n",
    "size = 768\n",
    "num_samples=2\n",
    "\n",
    "image = cu.get_image('../input_images/shoe_cloud.png', size=size)\n",
    "edges = cu.get_canny_edges(image, low_th=canny_low_th, high_th=canny_high_th)"
   ]
  },
  {
   "cell_type": "code",
   "execution_count": null,
   "id": "4d80b616-df0d-47ae-8e1d-c8475261fdaf",
   "metadata": {},
   "outputs": [],
   "source": [
    "edges"
   ]
  },
  {
   "cell_type": "code",
   "execution_count": null,
   "id": "b725d969-87e2-4d5f-bf5c-b17600ca88d7",
   "metadata": {},
   "outputs": [],
   "source": []
  },
  {
   "cell_type": "code",
   "execution_count": null,
   "id": "75676294-20ba-4def-90ef-7347d6ee213f",
   "metadata": {},
   "outputs": [],
   "source": [
    "from ldm.umer_debug_logger import udl\n",
    "\n",
    "udl.set_dir('../logs/cloud/', clear=True)\n",
    "udl.set_condition([udl.SUBBLOCK, udl.SUBBLOCKM1])\n",
    "udl.save_input('../logs/input_cache/')"
   ]
  },
  {
   "cell_type": "code",
   "execution_count": null,
   "id": "a6b0a543-0049-4f4b-9418-c406c9a937e8",
   "metadata": {},
   "outputs": [],
   "source": []
  },
  {
   "cell_type": "code",
   "execution_count": null,
   "id": "0425b95d-6ce2-434b-bd0b-4f117c10e86f",
   "metadata": {},
   "outputs": [],
   "source": []
  },
  {
   "cell_type": "code",
   "execution_count": null,
   "id": "abc8257c-aa8d-40ca-80b4-ab7e26b14267",
   "metadata": {},
   "outputs": [],
   "source": [
    "samples, controls = cu.get_sd_sample(\n",
    "    guidance=edges,\n",
    "    ddim_steps=10,\n",
    "    num_samples=num_samples,\n",
    "    model=model,\n",
    "    shape=[4, size // 8, size // 8],\n",
    "    control_scale=0.95,\n",
    "    prompt='cinematic, advertising shot, shoe in a city street, photorealistic shoe, colourful, highly detailed',\n",
    "    n_prompt='low quality, bad quality, sketches'\n",
    ")"
   ]
  },
  {
   "cell_type": "code",
   "execution_count": null,
   "id": "09c95da0-ed2e-40bc-ba45-729ae8e24057",
   "metadata": {},
   "outputs": [],
   "source": []
  }
 ],
 "metadata": {
  "kernelspec": {
   "display_name": "Python 3 (ipykernel)",
   "language": "python",
   "name": "python3"
  },
  "language_info": {
   "codemirror_mode": {
    "name": "ipython",
    "version": 3
   },
   "file_extension": ".py",
   "mimetype": "text/x-python",
   "name": "python",
   "nbconvert_exporter": "python",
   "pygments_lexer": "ipython3",
   "version": "3.10.11"
  }
 },
 "nbformat": 4,
 "nbformat_minor": 5
}
