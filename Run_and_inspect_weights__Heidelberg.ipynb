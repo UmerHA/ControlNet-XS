{
 "cells": [
  {
   "cell_type": "markdown",
   "id": "6f491485-b406-40ef-a3f3-39d95b1852de",
   "metadata": {},
   "source": [
    "Move into `ControlNet-XS` directory to run"
   ]
  },
  {
   "cell_type": "markdown",
   "id": "67b1de44-1e95-4b86-8710-652703dfb2eb",
   "metadata": {},
   "source": [
    "Note: I made these changes to make the code run:\n",
    "1. In `requirements/pt2.txt`: `torchaudio==2.0.2`,`torchvision==0.15.2`\n",
    "2. In `ldm/models/diffusion/ddpm.py`: `from pytorch_lightning.utilities.rank_zero import rank_zero_only`"
   ]
  },
  {
   "cell_type": "code",
   "execution_count": 1,
   "id": "2c2d5a48-c421-4115-8d06-d68f62170150",
   "metadata": {},
   "outputs": [
    {
     "name": "stdout",
     "output_type": "stream",
     "text": [
      "Info: `UmerDebugLogger` created. This is a logging class that will be deleted when the PR to integrate ControlNet-XS is done.\n"
     ]
    },
    {
     "name": "stderr",
     "output_type": "stream",
     "text": [
      "/opt/conda/lib/python3.10/site-packages/torchvision/transforms/functional_tensor.py:5: UserWarning: The torchvision.transforms.functional_tensor module is deprecated in 0.15 and will be **removed in 0.17**. Please don't rely on it. You probably just need to use APIs in torchvision.transforms.functional or in torchvision.transforms.v2.functional.\n",
      "  warnings.warn(\n"
     ]
    },
    {
     "name": "stdout",
     "output_type": "stream",
     "text": [
      "Downloading: \"https://huggingface.co/lllyasviel/ControlNet/resolve/main/annotator/ckpts/dpt_hybrid-midas-501f0c75.pt\" to /home/ControlNet-XS/annotator/ckpts/dpt_hybrid-midas-501f0c75.pt\n",
      "\n"
     ]
    },
    {
     "name": "stderr",
     "output_type": "stream",
     "text": [
      "100%|██████████| 470M/470M [00:01<00:00, 284MB/s]  \n",
      "/opt/conda/lib/python3.10/site-packages/timm/models/_factory.py:117: UserWarning: Mapping deprecated model name vit_base_resnet50_384 to current vit_base_r50_s16_384.orig_in21k_ft_in1k.\n",
      "  model = create_fn(\n"
     ]
    }
   ],
   "source": [
    "import scripts.control_utils as cu\n",
    "import torch\n",
    "from PIL import Image"
   ]
  },
  {
   "cell_type": "code",
   "execution_count": 2,
   "id": "585c32c0-5e7f-4498-97c5-640b648fc738",
   "metadata": {},
   "outputs": [
    {
     "name": "stdout",
     "output_type": "stream",
     "text": [
      "TwoStreamControlLDM: Running in eps-prediction mode\n",
      "DiffusionWrapper has 865.91 M params.\n",
      "making attention of type 'vanilla-xformers' with 512 in_channels\n",
      "building MemoryEfficientAttnBlock with 512 in_channels...\n",
      "Working with z of shape (1, 4, 32, 32) = 4096 dimensions.\n",
      "making attention of type 'vanilla-xformers' with 512 in_channels\n",
      "building MemoryEfficientAttnBlock with 512 in_channels...\n",
      "[404 keys are missing from the model (hint processing and cross connections included)]\n",
      "['CONTROL WEIGHTS LOADED']\n",
      "Loaded model config from [../Heidelberg_model_configs/sd21_encD_canny_14m.yaml]\n"
     ]
    }
   ],
   "source": [
    "path_to_config = '../Heidelberg_model_configs/sd21_encD_canny_14m.yaml'\n",
    "model = cu.create_model(path_to_config).to('cuda')"
   ]
  },
  {
   "cell_type": "code",
   "execution_count": null,
   "id": "b725d969-87e2-4d5f-bf5c-b17600ca88d7",
   "metadata": {},
   "outputs": [],
   "source": []
  },
  {
   "cell_type": "code",
   "execution_count": 32,
   "id": "6d947b42-5353-4f1f-954d-4048ccae7165",
   "metadata": {},
   "outputs": [],
   "source": [
    "torch.set_printoptions(sci_mode=False, precision=3, linewidth=200)\n",
    "\n",
    "def param_head(module, n=10, param='weight'):\n",
    "    if 'TimestepEmbedSequential' in str(type(module)): module = module[0]\n",
    "    return getattr(module, param).data.flatten()[:10]\n",
    "\n",
    "def print_param_head(module, n=10, param='weight'):\n",
    "    print(param_head(module=module, n=n, param=param))"
   ]
  },
  {
   "cell_type": "code",
   "execution_count": 33,
   "id": "a6b0a543-0049-4f4b-9418-c406c9a937e8",
   "metadata": {},
   "outputs": [
    {
     "name": "stdout",
     "output_type": "stream",
     "text": [
      "tensor([ 0.055,  0.043,  0.043,  0.059,  0.023,  0.078,  0.047,  0.057,  0.037, -0.026], device='cuda:0')\n"
     ]
    }
   ],
   "source": [
    "print_param_head(model.control_model.control_model.input_blocks[1][0].in_layers[2])"
   ]
  },
  {
   "cell_type": "code",
   "execution_count": 34,
   "id": "0425b95d-6ce2-434b-bd0b-4f117c10e86f",
   "metadata": {},
   "outputs": [
    {
     "name": "stdout",
     "output_type": "stream",
     "text": [
      "tensor([-0.025,  0.025,  0.072, -0.013, -0.131,  0.115, -0.010, -0.013,  0.028,  0.039], device='cuda:0')\n"
     ]
    }
   ],
   "source": [
    "print_param_head(model.control_model.control_model.input_blocks[1][0].in_layers[2], param='bias')"
   ]
  },
  {
   "cell_type": "code",
   "execution_count": null,
   "id": "09c95da0-ed2e-40bc-ba45-729ae8e24057",
   "metadata": {},
   "outputs": [],
   "source": []
  },
  {
   "cell_type": "code",
   "execution_count": null,
   "id": "638786db-4f25-4cf6-ade6-dd3879e8d3c7",
   "metadata": {},
   "outputs": [],
   "source": []
  }
 ],
 "metadata": {
  "kernelspec": {
   "display_name": "Python 3 (ipykernel)",
   "language": "python",
   "name": "python3"
  },
  "language_info": {
   "codemirror_mode": {
    "name": "ipython",
    "version": 3
   },
   "file_extension": ".py",
   "mimetype": "text/x-python",
   "name": "python",
   "nbconvert_exporter": "python",
   "pygments_lexer": "ipython3",
   "version": "3.10.11"
  }
 },
 "nbformat": 4,
 "nbformat_minor": 5
}
